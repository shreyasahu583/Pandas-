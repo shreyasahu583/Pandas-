{
 "cells": [
  {
   "cell_type": "code",
   "execution_count": 5,
   "id": "6c36b404-e173-47ca-8f79-b031196a4bc6",
   "metadata": {},
   "outputs": [],
   "source": [
    "import numpy as np\n",
    "import pandas as pd "
   ]
  },
  {
   "cell_type": "code",
   "execution_count": 6,
   "id": "6234b58e-6c63-426e-8559-c909a60556fb",
   "metadata": {},
   "outputs": [],
   "source": [
    "# Part 1 Netflix Movies and Tv Shows\n",
    "netflix_df = pd.read_csv('netflix_titles.csv')"
   ]
  },
  {
   "cell_type": "code",
   "execution_count": 7,
   "id": "1650a665-c85f-4c85-9c82-7cfa4fe96966",
   "metadata": {},
   "outputs": [
    {
     "name": "stdout",
     "output_type": "stream",
     "text": [
      "--- First 5 Rows ---\n",
      "  show_id     type                  title         director  \\\n",
      "0      s1    Movie   Dick Johnson Is Dead  Kirsten Johnson   \n",
      "1      s2  TV Show          Blood & Water              NaN   \n",
      "2      s3  TV Show              Ganglands  Julien Leclercq   \n",
      "3      s4  TV Show  Jailbirds New Orleans              NaN   \n",
      "4      s5  TV Show           Kota Factory              NaN   \n",
      "\n",
      "                                                cast        country  \\\n",
      "0                                                NaN  United States   \n",
      "1  Ama Qamata, Khosi Ngema, Gail Mabalane, Thaban...   South Africa   \n",
      "2  Sami Bouajila, Tracy Gotoas, Samuel Jouy, Nabi...            NaN   \n",
      "3                                                NaN            NaN   \n",
      "4  Mayur More, Jitendra Kumar, Ranjan Raj, Alam K...          India   \n",
      "\n",
      "           date_added  release_year rating   duration  \\\n",
      "0  September 25, 2021          2020  PG-13     90 min   \n",
      "1  September 24, 2021          2021  TV-MA  2 Seasons   \n",
      "2  September 24, 2021          2021  TV-MA   1 Season   \n",
      "3  September 24, 2021          2021  TV-MA   1 Season   \n",
      "4  September 24, 2021          2021  TV-MA  2 Seasons   \n",
      "\n",
      "                                           listed_in  \\\n",
      "0                                      Documentaries   \n",
      "1    International TV Shows, TV Dramas, TV Mysteries   \n",
      "2  Crime TV Shows, International TV Shows, TV Act...   \n",
      "3                             Docuseries, Reality TV   \n",
      "4  International TV Shows, Romantic TV Shows, TV ...   \n",
      "\n",
      "                                         description  \n",
      "0  As her father nears the end of his life, filmm...  \n",
      "1  After crossing paths at a party, a Cape Town t...  \n",
      "2  To protect his family from a powerful drug lor...  \n",
      "3  Feuds, flirtations and toilet talk go down amo...  \n",
      "4  In a city of coaching centers known to train I...  \n",
      "\n",
      "--- Last 5 Rows ---\n",
      "     show_id     type        title         director  \\\n",
      "8802   s8803    Movie       Zodiac    David Fincher   \n",
      "8803   s8804  TV Show  Zombie Dumb              NaN   \n",
      "8804   s8805    Movie   Zombieland  Ruben Fleischer   \n",
      "8805   s8806    Movie         Zoom     Peter Hewitt   \n",
      "8806   s8807    Movie       Zubaan      Mozez Singh   \n",
      "\n",
      "                                                   cast        country  \\\n",
      "8802  Mark Ruffalo, Jake Gyllenhaal, Robert Downey J...  United States   \n",
      "8803                                                NaN            NaN   \n",
      "8804  Jesse Eisenberg, Woody Harrelson, Emma Stone, ...  United States   \n",
      "8805  Tim Allen, Courteney Cox, Chevy Chase, Kate Ma...  United States   \n",
      "8806  Vicky Kaushal, Sarah-Jane Dias, Raaghav Chanan...          India   \n",
      "\n",
      "             date_added  release_year rating   duration  \\\n",
      "8802  November 20, 2019          2007      R    158 min   \n",
      "8803       July 1, 2019          2018  TV-Y7  2 Seasons   \n",
      "8804   November 1, 2019          2009      R     88 min   \n",
      "8805   January 11, 2020          2006     PG     88 min   \n",
      "8806      March 2, 2019          2015  TV-14    111 min   \n",
      "\n",
      "                                           listed_in  \\\n",
      "8802                  Cult Movies, Dramas, Thrillers   \n",
      "8803          Kids' TV, Korean TV Shows, TV Comedies   \n",
      "8804                         Comedies, Horror Movies   \n",
      "8805              Children & Family Movies, Comedies   \n",
      "8806  Dramas, International Movies, Music & Musicals   \n",
      "\n",
      "                                            description  \n",
      "8802  A political cartoonist, a crime reporter and a...  \n",
      "8803  While living alone in a spooky town, a young g...  \n",
      "8804  Looking to survive in a world taken over by zo...  \n",
      "8805  Dragged from civilian life, a former superhero...  \n",
      "8806  A scrappy but poor boy worms his way into a ty...  \n"
     ]
    }
   ],
   "source": [
    "# Task 2: Display the first 5 and last 5 rows \n",
    "print(\"--- First 5 Rows ---\")\n",
    "print(netflix_df.head())\n",
    "print(\"\\n--- Last 5 Rows ---\")\n",
    "print(netflix_df.tail())"
   ]
  },
  {
   "cell_type": "code",
   "execution_count": 8,
   "id": "479ab7c7-973a-44ff-ac4b-b1c6bd308b6f",
   "metadata": {},
   "outputs": [
    {
     "name": "stdout",
     "output_type": "stream",
     "text": [
      "\n",
      "Number of rows and columns: (8807, 12)\n"
     ]
    }
   ],
   "source": [
    "#  Task 3: How many rows and columns are there? \n",
    "print(f\"\\nNumber of rows and columns: {netflix_df.shape}\")"
   ]
  },
  {
   "cell_type": "code",
   "execution_count": 9,
   "id": "93064a27-d321-4e61-b343-9d12ca054a6b",
   "metadata": {},
   "outputs": [
    {
     "name": "stdout",
     "output_type": "stream",
     "text": [
      "\n",
      "Number of unique countries where content is produced: 127\n"
     ]
    }
   ],
   "source": [
    " #  Task 4: Identify the number of unique countries \n",
    "unique_countries = netflix_df['country'].dropna().str.split(', ').explode().nunique()\n",
    "print(f\"\\nNumber of unique countries where content is produced: {unique_countries}\")"
   ]
  },
  {
   "cell_type": "code",
   "execution_count": 10,
   "id": "7a737332-eba0-4883-8bc4-d92f31b214ec",
   "metadata": {},
   "outputs": [
    {
     "name": "stdout",
     "output_type": "stream",
     "text": [
      "\n",
      "--- Records for TV Shows ---\n",
      "  show_id     type                  title         director  \\\n",
      "1      s2  TV Show          Blood & Water              NaN   \n",
      "2      s3  TV Show              Ganglands  Julien Leclercq   \n",
      "3      s4  TV Show  Jailbirds New Orleans              NaN   \n",
      "4      s5  TV Show           Kota Factory              NaN   \n",
      "5      s6  TV Show          Midnight Mass    Mike Flanagan   \n",
      "\n",
      "                                                cast       country  \\\n",
      "1  Ama Qamata, Khosi Ngema, Gail Mabalane, Thaban...  South Africa   \n",
      "2  Sami Bouajila, Tracy Gotoas, Samuel Jouy, Nabi...           NaN   \n",
      "3                                                NaN           NaN   \n",
      "4  Mayur More, Jitendra Kumar, Ranjan Raj, Alam K...         India   \n",
      "5  Kate Siegel, Zach Gilford, Hamish Linklater, H...           NaN   \n",
      "\n",
      "           date_added  release_year rating   duration  \\\n",
      "1  September 24, 2021          2021  TV-MA  2 Seasons   \n",
      "2  September 24, 2021          2021  TV-MA   1 Season   \n",
      "3  September 24, 2021          2021  TV-MA   1 Season   \n",
      "4  September 24, 2021          2021  TV-MA  2 Seasons   \n",
      "5  September 24, 2021          2021  TV-MA   1 Season   \n",
      "\n",
      "                                           listed_in  \\\n",
      "1    International TV Shows, TV Dramas, TV Mysteries   \n",
      "2  Crime TV Shows, International TV Shows, TV Act...   \n",
      "3                             Docuseries, Reality TV   \n",
      "4  International TV Shows, Romantic TV Shows, TV ...   \n",
      "5                 TV Dramas, TV Horror, TV Mysteries   \n",
      "\n",
      "                                         description  \n",
      "1  After crossing paths at a party, a Cape Town t...  \n",
      "2  To protect his family from a powerful drug lor...  \n",
      "3  Feuds, flirtations and toilet talk go down amo...  \n",
      "4  In a city of coaching centers known to train I...  \n",
      "5  The arrival of a charismatic young priest brin...  \n"
     ]
    }
   ],
   "source": [
    "# Task 5: Display all records where the type is 'TV Show' \n",
    "tv_shows_df = netflix_df[netflix_df['type'] == 'TV Show']\n",
    "print(\"\\n--- Records for TV Shows ---\")\n",
    "print(tv_shows_df.head()) "
   ]
  },
  {
   "cell_type": "code",
   "execution_count": 11,
   "id": "9cb5fc58-6a5b-4cce-9dec-92606a0b396c",
   "metadata": {},
   "outputs": [
    {
     "name": "stdout",
     "output_type": "stream",
     "text": [
      "\n",
      "--- Dataframe with Year and Month from date_added ---\n",
      "                   title date_added  added_year  added_month\n",
      "0   Dick Johnson Is Dead 2021-09-25      2021.0          9.0\n",
      "1          Blood & Water 2021-09-24      2021.0          9.0\n",
      "2              Ganglands 2021-09-24      2021.0          9.0\n",
      "3  Jailbirds New Orleans 2021-09-24      2021.0          9.0\n",
      "4           Kota Factory 2021-09-24      2021.0          9.0\n"
     ]
    }
   ],
   "source": [
    "# Task 6: Convert 'date_added' to datetime and extract year and month \n",
    "netflix_df['date_added'] = pd.to_datetime(netflix_df['date_added'], errors='coerce')\n",
    "netflix_df['added_year'] = netflix_df['date_added'].dt.year\n",
    "netflix_df['added_month'] = netflix_df['date_added'].dt.month\n",
    "print(\"\\n--- Dataframe with Year and Month from date_added ---\")\n",
    "print(netflix_df[['title', 'date_added', 'added_year', 'added_month']].head())"
   ]
  },
  {
   "cell_type": "code",
   "execution_count": 12,
   "id": "35e0addc-d019-4681-863a-5516244eb793",
   "metadata": {},
   "outputs": [
    {
     "name": "stdout",
     "output_type": "stream",
     "text": [
      "\n",
      "Number of movies released in 2019: 633\n"
     ]
    }
   ],
   "source": [
    " # Task 7: How many movies were released in 2019? \n",
    "movies_in_2019 = netflix_df[(netflix_df['type'] == 'Movie') & (netflix_df['release_year'] == 2019)]\n",
    "count_movies_2019 = len(movies_in_2019)\n",
    "print(f\"\\nNumber of movies released in 2019: {count_movies_2019}\")"
   ]
  },
  {
   "cell_type": "code",
   "execution_count": 13,
   "id": "0ab810e2-3332-4a99-812c-45461fe8c120",
   "metadata": {},
   "outputs": [
    {
     "name": "stdout",
     "output_type": "stream",
     "text": [
      "\n",
      "--- Content Count by Rating ---\n",
      "      rating  count\n",
      "0     66 min      1\n",
      "1     74 min      1\n",
      "2     84 min      1\n",
      "3          G     41\n",
      "4      NC-17      3\n",
      "5         NR     80\n",
      "6         PG    287\n",
      "7      PG-13    490\n",
      "8          R    799\n",
      "9      TV-14   2160\n",
      "10      TV-G    220\n",
      "11     TV-MA   3207\n",
      "12     TV-PG    863\n",
      "13      TV-Y    307\n",
      "14     TV-Y7    334\n",
      "15  TV-Y7-FV      6\n",
      "16        UR      3\n"
     ]
    }
   ],
   "source": [
    " # Task 8: Group by rating and show the count of each category\n",
    "rating_counts = netflix_df.groupby('rating').size().reset_index(name='count')\n",
    "print(\"\\n--- Content Count by Rating ---\")\n",
    "print(rating_counts)"
   ]
  },
  {
   "cell_type": "code",
   "execution_count": 14,
   "id": "84ee1d48-9162-4abf-b7d0-e1c090ac92e2",
   "metadata": {},
   "outputs": [],
   "source": [
    "#Part 2 World Population Data\n",
    "world_pop_df = pd.read_csv('world_population.csv')"
   ]
  },
  {
   "cell_type": "code",
   "execution_count": 15,
   "id": "06911e0a-1da6-45be-9ca1-384482ef270d",
   "metadata": {},
   "outputs": [
    {
     "name": "stdout",
     "output_type": "stream",
     "text": [
      "--- Top 10 Rows of World Population Dataset ---\n",
      "   Rank CCA3    Country/Territory           Capital      Continent  \\\n",
      "0    36  AFG          Afghanistan             Kabul           Asia   \n",
      "1   138  ALB              Albania            Tirana         Europe   \n",
      "2    34  DZA              Algeria           Algiers         Africa   \n",
      "3   213  ASM       American Samoa         Pago Pago        Oceania   \n",
      "4   203  AND              Andorra  Andorra la Vella         Europe   \n",
      "5    42  AGO               Angola            Luanda         Africa   \n",
      "6   224  AIA             Anguilla        The Valley  North America   \n",
      "7   201  ATG  Antigua and Barbuda      Saint John’s  North America   \n",
      "8    33  ARG            Argentina      Buenos Aires  South America   \n",
      "9   140  ARM              Armenia           Yerevan           Asia   \n",
      "\n",
      "   2022 Population  2020 Population  2015 Population  2010 Population  \\\n",
      "0         41128771         38972230         33753499         28189672   \n",
      "1          2842321          2866849          2882481          2913399   \n",
      "2         44903225         43451666         39543154         35856344   \n",
      "3            44273            46189            51368            54849   \n",
      "4            79824            77700            71746            71519   \n",
      "5         35588987         33428485         28127721         23364185   \n",
      "6            15857            15585            14525            13172   \n",
      "7            93763            92664            89941            85695   \n",
      "8         45510318         45036032         43257065         41100123   \n",
      "9          2780469          2805608          2878595          2946293   \n",
      "\n",
      "   2000 Population  1990 Population  1980 Population  1970 Population  \\\n",
      "0         19542982         10694796         12486631         10752971   \n",
      "1          3182021          3295066          2941651          2324731   \n",
      "2         30774621         25518074         18739378         13795915   \n",
      "3            58230            47818            32886            27075   \n",
      "4            66097            53569            35611            19860   \n",
      "5         16394062         11828638          8330047          6029700   \n",
      "6            11047             8316             6560             6283   \n",
      "7            75055            63328            64888            64516   \n",
      "8         37070774         32637657         28024803         23842803   \n",
      "9          3168523          3556539          3135123          2534377   \n",
      "\n",
      "   Area (km²)  Density (per km²)  Growth Rate  World Population Percentage  \n",
      "0      652230            63.0587       1.0257                         0.52  \n",
      "1       28748            98.8702       0.9957                         0.04  \n",
      "2     2381741            18.8531       1.0164                         0.56  \n",
      "3         199           222.4774       0.9831                         0.00  \n",
      "4         468           170.5641       1.0100                         0.00  \n",
      "5     1246700            28.5466       1.0315                         0.45  \n",
      "6          91           174.2527       1.0066                         0.00  \n",
      "7         442           212.1335       1.0058                         0.00  \n",
      "8     2780400            16.3683       1.0052                         0.57  \n",
      "9       29743            93.4831       0.9962                         0.03  \n"
     ]
    }
   ],
   "source": [
    "# Task 1\n",
    "print(\"--- Top 10 Rows of World Population Dataset ---\")\n",
    "print(world_pop_df.head(10))"
   ]
  },
  {
   "cell_type": "code",
   "execution_count": 16,
   "id": "ee6809a4-4ff4-4281-8d09-0f84c8d8c4e5",
   "metadata": {},
   "outputs": [
    {
     "name": "stdout",
     "output_type": "stream",
     "text": [
      "\n",
      "--- Null Values Check ---\n",
      "Rank                           0\n",
      "CCA3                           0\n",
      "Country/Territory              0\n",
      "Capital                        0\n",
      "Continent                      0\n",
      "2022 Population                0\n",
      "2020 Population                0\n",
      "2015 Population                0\n",
      "2010 Population                0\n",
      "2000 Population                0\n",
      "1990 Population                0\n",
      "1980 Population                0\n",
      "1970 Population                0\n",
      "Area (km²)                     0\n",
      "Density (per km²)              0\n",
      "Growth Rate                    0\n",
      "World Population Percentage    0\n",
      "dtype: int64\n",
      "\n",
      "--- Null values after handling ---\n",
      "Rank                           0\n",
      "CCA3                           0\n",
      "Country/Territory              0\n",
      "Capital                        0\n",
      "Continent                      0\n",
      "2022 Population                0\n",
      "2020 Population                0\n",
      "2015 Population                0\n",
      "2010 Population                0\n",
      "2000 Population                0\n",
      "1990 Population                0\n",
      "1980 Population                0\n",
      "1970 Population                0\n",
      "Area (km²)                     0\n",
      "Density (per km²)              0\n",
      "Growth Rate                    0\n",
      "World Population Percentage    0\n",
      "dtype: int64\n"
     ]
    }
   ],
   "source": [
    "#Task 2: Check for null values and handle them appropriately \n",
    "print(\"\\n--- Null Values Check ---\")\n",
    "print(world_pop_df.isnull().sum())\n",
    "   \n",
    "for col in world_pop_df.select_dtypes(include='number').columns:\n",
    "    world_pop_df[col] = world_pop_df[col].fillna(world_pop_df[col].mean())\n",
    "print(\"\\n--- Null values after handling ---\")\n",
    "print(world_pop_df.isnull().sum())"
   ]
  },
  {
   "cell_type": "code",
   "execution_count": 17,
   "id": "b31ca2fb-125c-48c9-ad0c-dc18524d3b0c",
   "metadata": {},
   "outputs": [
    {
     "name": "stdout",
     "output_type": "stream",
     "text": [
      "\n",
      "--- Top 5 Most Populous Countries ---\n",
      "    Country/Territory  2022 Population\n",
      "41              China       1425887337\n",
      "92              India       1417173173\n",
      "221     United States        338289857\n",
      "93          Indonesia        275501339\n",
      "156          Pakistan        235824862\n"
     ]
    }
   ],
   "source": [
    " #  Task 3: What is the population of the top 5 most populous countries? \n",
    "top_5_populous = world_pop_df.sort_values(by='2022 Population', ascending=False).head(5)\n",
    "print(\"\\n--- Top 5 Most Populous Countries ---\")\n",
    "print(top_5_populous[['Country/Territory', '2022 Population']])"
   ]
  },
  {
   "cell_type": "code",
   "execution_count": 18,
   "id": "2f4fcbc7-67df-45d3-b368-e86fbcd220d0",
   "metadata": {},
   "outputs": [
    {
     "name": "stdout",
     "output_type": "stream",
     "text": [
      "\n",
      "Note: GDP column not found. Skipping Task 4.\n"
     ]
    }
   ],
   "source": [
    " #  Task 4: Create a new column showing GDP per capita \n",
    "    \n",
    "if 'GDP' in world_pop_df.columns and '2022 Population' in world_pop_df.columns:\n",
    "        world_pop_df['GDP per Capita'] = world_pop_df['GDP'] / world_pop_df['2022 Population']\n",
    "        print(\"\\n--- DataFrame with GDP per Capita ---\")\n",
    "        print(world_pop_df[['Country/Territory', 'GDP per Capita']].head())\n",
    "else:\n",
    "        print(\"\\nNote: GDP column not found. Skipping Task 4.\")"
   ]
  },
  {
   "cell_type": "code",
   "execution_count": 19,
   "id": "63b34cab-693f-4f3d-acbe-2c58a7fc2484",
   "metadata": {},
   "outputs": [
    {
     "name": "stdout",
     "output_type": "stream",
     "text": [
      "\n",
      "--- Countries with Population > 100M and Area < 500k sq km ---\n",
      "    Country/Territory  2022 Population  Area (km²)\n",
      "16         Bangladesh        171186372      147570\n",
      "102             Japan        123951692      377930\n",
      "163       Philippines        115559009      342353\n"
     ]
    }
   ],
   "source": [
    "# Task 5: Filter out countries with population > 100 million and area < 500,000 sq km \n",
    "    filtered_countries = world_pop_df[\n",
    "        (world_pop_df['2022 Population'] > 100000000) &\n",
    "        (world_pop_df['Area (km²)'] < 500000)\n",
    "    ]\n",
    "    print(\"\\n--- Countries with Population > 100M and Area < 500k sq km ---\")\n",
    "    print(filtered_countries[['Country/Territory', '2022 Population', 'Area (km²)']])"
   ]
  },
  {
   "cell_type": "code",
   "execution_count": 20,
   "id": "57c204e9-2968-4a90-8200-d17a108b4480",
   "metadata": {},
   "outputs": [
    {
     "name": "stdout",
     "output_type": "stream",
     "text": [
      "\n",
      "--- Countries Sorted by Density (Descending) ---\n",
      "    Country/Territory  Density (per km²)\n",
      "119             Macau         23172.2667\n",
      "134            Monaco         18234.5000\n",
      "187         Singapore          8416.4634\n",
      "89          Hong Kong          6783.3922\n",
      "76          Gibraltar          5441.5000\n"
     ]
    }
   ],
   "source": [
    " #  Task 6: Sort the countries based on density in descending order \n",
    "sorted_by_density = world_pop_df.sort_values(by='Density (per km²)', ascending=False)\n",
    "print(\"\\n--- Countries Sorted by Density (Descending) ---\")\n",
    "print(sorted_by_density[['Country/Territory', 'Density (per km²)']].head())"
   ]
  },
  {
   "cell_type": "code",
   "execution_count": 21,
   "id": "c6513732-ee73-4972-9c26-f9cb975d1dd8",
   "metadata": {},
   "outputs": [],
   "source": [
    "#Part 3 Indian Premier League(IPL) "
   ]
  },
  {
   "cell_type": "code",
   "execution_count": 22,
   "id": "517a4691-1d0e-4878-9fe4-410b8621efa3",
   "metadata": {},
   "outputs": [
    {
     "name": "stdout",
     "output_type": "stream",
     "text": [
      "--- Top 5 rows of matches.csv ---\n",
      "       id   season        city        date match_type player_of_match  \\\n",
      "0  335982  2007/08   Bangalore  2008-04-18     League     BB McCullum   \n",
      "1  335983  2007/08  Chandigarh  2008-04-19     League      MEK Hussey   \n",
      "2  335984  2007/08       Delhi  2008-04-19     League     MF Maharoof   \n",
      "3  335985  2007/08      Mumbai  2008-04-20     League      MV Boucher   \n",
      "4  335986  2007/08     Kolkata  2008-04-20     League       DJ Hussey   \n",
      "\n",
      "                                        venue                        team1  \\\n",
      "0                       M Chinnaswamy Stadium  Royal Challengers Bangalore   \n",
      "1  Punjab Cricket Association Stadium, Mohali              Kings XI Punjab   \n",
      "2                            Feroz Shah Kotla             Delhi Daredevils   \n",
      "3                            Wankhede Stadium               Mumbai Indians   \n",
      "4                                Eden Gardens        Kolkata Knight Riders   \n",
      "\n",
      "                         team2                  toss_winner toss_decision  \\\n",
      "0        Kolkata Knight Riders  Royal Challengers Bangalore         field   \n",
      "1          Chennai Super Kings          Chennai Super Kings           bat   \n",
      "2             Rajasthan Royals             Rajasthan Royals           bat   \n",
      "3  Royal Challengers Bangalore               Mumbai Indians           bat   \n",
      "4              Deccan Chargers              Deccan Chargers           bat   \n",
      "\n",
      "                        winner   result  result_margin  target_runs  \\\n",
      "0        Kolkata Knight Riders     runs          140.0        223.0   \n",
      "1          Chennai Super Kings     runs           33.0        241.0   \n",
      "2             Delhi Daredevils  wickets            9.0        130.0   \n",
      "3  Royal Challengers Bangalore  wickets            5.0        166.0   \n",
      "4        Kolkata Knight Riders  wickets            5.0        111.0   \n",
      "\n",
      "   target_overs super_over method    umpire1         umpire2  \n",
      "0          20.0          N    NaN  Asad Rauf     RE Koertzen  \n",
      "1          20.0          N    NaN  MR Benson      SL Shastri  \n",
      "2          20.0          N    NaN  Aleem Dar  GA Pratapkumar  \n",
      "3          20.0          N    NaN   SJ Davis       DJ Harper  \n",
      "4          20.0          N    NaN  BF Bowden     K Hariharan  \n"
     ]
    }
   ],
   "source": [
    "# Task 1: Load the matches.csv file ---\n",
    "matches_df = pd.read_csv('matches.csv')\n",
    "deliveries_df = pd.read_csv('deliveries.csv')\n",
    "print(\"--- Top 5 rows of matches.csv ---\")\n",
    "print(matches_df.head())"
   ]
  },
  {
   "cell_type": "code",
   "execution_count": 23,
   "id": "aa373d88-06e2-4c66-97cf-c80c0dced5d1",
   "metadata": {},
   "outputs": [
    {
     "name": "stdout",
     "output_type": "stream",
     "text": [
      "\n",
      "Most successful team is: Mumbai Indians\n",
      "\n",
      "--- Team Win Counts ---\n",
      "winner\n",
      "Mumbai Indians                 144\n",
      "Chennai Super Kings            138\n",
      "Kolkata Knight Riders          131\n",
      "Royal Challengers Bangalore    116\n",
      "Rajasthan Royals               112\n",
      "Kings XI Punjab                 88\n",
      "Sunrisers Hyderabad             88\n",
      "Delhi Daredevils                67\n",
      "Delhi Capitals                  48\n",
      "Deccan Chargers                 29\n",
      "Gujarat Titans                  28\n",
      "Lucknow Super Giants            24\n",
      "Punjab Kings                    24\n",
      "Gujarat Lions                   13\n",
      "Pune Warriors                   12\n",
      "Rising Pune Supergiant          10\n",
      "Royal Challengers Bengaluru      7\n",
      "Kochi Tuskers Kerala             6\n",
      "Rising Pune Supergiants          5\n",
      "Name: count, dtype: int64\n"
     ]
    }
   ],
   "source": [
    " # Task 2: Find out the most successful team (based on number of wins)\n",
    "most_successful_team = matches_df['winner'].value_counts().idxmax()\n",
    "win_counts = matches_df['winner'].value_counts()\n",
    "print(f\"\\nMost successful team is: {most_successful_team}\")\n",
    "print(\"\\n--- Team Win Counts ---\")\n",
    "print(win_counts)"
   ]
  },
  {
   "cell_type": "code",
   "execution_count": 24,
   "id": "b9ffbf69-649e-4ac7-82ad-d075d7f79b18",
   "metadata": {},
   "outputs": [
    {
     "name": "stdout",
     "output_type": "stream",
     "text": [
      "\n",
      "--- Total Matches Played Each Season ---\n",
      "season\n",
      "2007/08    58\n",
      "2009       57\n",
      "2009/10    60\n",
      "2011       73\n",
      "2012       74\n",
      "2013       76\n",
      "2014       60\n",
      "2015       59\n",
      "2016       60\n",
      "2017       59\n",
      "2018       60\n",
      "2019       60\n",
      "2020/21    60\n",
      "2021       60\n",
      "2022       74\n",
      "2023       74\n",
      "2024       71\n",
      "Name: count, dtype: int64\n"
     ]
    }
   ],
   "source": [
    "# --- Task 3: Count total matches played each season \n",
    "if 'season' in matches_df.columns:\n",
    "    matches_per_season = matches_df['season'].value_counts().sort_index()\n",
    "    print(\"\\n--- Total Matches Played Each Season ---\")\n",
    "    print(matches_per_season)\n",
    "elif 'date' in matches_df.columns:\n",
    "    matches_df['season'] = pd.to_datetime(matches_df['date']).dt.year\n",
    "    matches_per_season = matches_df['season'].value_counts().sort_index()\n",
    "    print(\"\\n--- Total Matches Played Each Season (extracted from date) ---\")\n",
    "    print(matches_per_season)"
   ]
  },
  {
   "cell_type": "code",
   "execution_count": 25,
   "id": "5f84c879-fb2f-4108-8032-1fc747a0684c",
   "metadata": {},
   "outputs": [
    {
     "name": "stdout",
     "output_type": "stream",
     "text": [
      "\n",
      "--- Top 5 Player of the Match Winners ---\n",
      "player_of_match\n",
      "AB de Villiers    25\n",
      "CH Gayle          22\n",
      "RG Sharma         19\n",
      "DA Warner         18\n",
      "V Kohli           18\n",
      "Name: count, dtype: int64\n"
     ]
    }
   ],
   "source": [
    "#  Task 4: Display the top 5 players who won the most \"Player of the Match\" awards \n",
    "top_5_pom = matches_df['player_of_match'].value_counts().head(5)\n",
    "print(\"\\n--- Top 5 Player of the Match Winners ---\")\n",
    "print(top_5_pom)"
   ]
  },
  {
   "cell_type": "code",
   "execution_count": 26,
   "id": "b0c72f88-9fe3-4626-9cd8-227bedcaa5b4",
   "metadata": {},
   "outputs": [
    {
     "name": "stdout",
     "output_type": "stream",
     "text": [
      "\n",
      "--- Merged DataFrame (matches and deliveries) Info ---\n",
      "<class 'pandas.core.frame.DataFrame'>\n",
      "RangeIndex: 260920 entries, 0 to 260919\n",
      "Data columns (total 37 columns):\n",
      " #   Column            Non-Null Count   Dtype  \n",
      "---  ------            --------------   -----  \n",
      " 0   match_id          260920 non-null  int64  \n",
      " 1   inning            260920 non-null  int64  \n",
      " 2   batting_team      260920 non-null  object \n",
      " 3   bowling_team      260920 non-null  object \n",
      " 4   over              260920 non-null  int64  \n",
      " 5   ball              260920 non-null  int64  \n",
      " 6   batter            260920 non-null  object \n",
      " 7   bowler            260920 non-null  object \n",
      " 8   non_striker       260920 non-null  object \n",
      " 9   batsman_runs      260920 non-null  int64  \n",
      " 10  extra_runs        260920 non-null  int64  \n",
      " 11  total_runs        260920 non-null  int64  \n",
      " 12  extras_type       14125 non-null   object \n",
      " 13  is_wicket         260920 non-null  int64  \n",
      " 14  player_dismissed  12950 non-null   object \n",
      " 15  dismissal_kind    12950 non-null   object \n",
      " 16  fielder           9354 non-null    object \n",
      " 17  id                260920 non-null  int64  \n",
      " 18  season            260920 non-null  object \n",
      " 19  city              248523 non-null  object \n",
      " 20  date              260920 non-null  object \n",
      " 21  match_type        260920 non-null  object \n",
      " 22  player_of_match   260430 non-null  object \n",
      " 23  venue             260920 non-null  object \n",
      " 24  team1             260920 non-null  object \n",
      " 25  team2             260920 non-null  object \n",
      " 26  toss_winner       260920 non-null  object \n",
      " 27  toss_decision     260920 non-null  object \n",
      " 28  winner            260430 non-null  object \n",
      " 29  result            260920 non-null  object \n",
      " 30  result_margin     256796 non-null  float64\n",
      " 31  target_runs       260611 non-null  float64\n",
      " 32  target_overs      260611 non-null  float64\n",
      " 33  super_over        260920 non-null  object \n",
      " 34  method            3646 non-null    object \n",
      " 35  umpire1           260920 non-null  object \n",
      " 36  umpire2           260920 non-null  object \n",
      "dtypes: float64(3), int64(9), object(25)\n",
      "memory usage: 73.7+ MB\n"
     ]
    }
   ],
   "source": [
    "# Task 5: Merge matches.csv and deliveries.csv on match_id and perform analysis \n",
    "merged_df = pd.merge(deliveries_df, matches_df, left_on='match_id', right_on='id')\n",
    "print(\"\\n--- Merged DataFrame (matches and deliveries) Info ---\")\n",
    "merged_df.info()"
   ]
  },
  {
   "cell_type": "code",
   "execution_count": 27,
   "id": "ce47818b-af14-4952-82f1-bf78ada80dfd",
   "metadata": {},
   "outputs": [],
   "source": [
    "#Part 4 Students Performance"
   ]
  },
  {
   "cell_type": "code",
   "execution_count": 28,
   "id": "45ccba0f-85d0-4729-aad3-8ae851bc971c",
   "metadata": {},
   "outputs": [],
   "source": [
    "import pandas as pd\n",
    "import matplotlib.pyplot as plt\n",
    "import seaborn as sns"
   ]
  },
  {
   "cell_type": "code",
   "execution_count": 29,
   "id": "d41953a2-e03c-4d20-97bf-de996665554e",
   "metadata": {},
   "outputs": [
    {
     "name": "stdout",
     "output_type": "stream",
     "text": [
      "--- Dataset Info ---\n",
      "<class 'pandas.core.frame.DataFrame'>\n",
      "RangeIndex: 1000 entries, 0 to 999\n",
      "Data columns (total 8 columns):\n",
      " #   Column                       Non-Null Count  Dtype \n",
      "---  ------                       --------------  ----- \n",
      " 0   gender                       1000 non-null   object\n",
      " 1   race/ethnicity               1000 non-null   object\n",
      " 2   parental level of education  1000 non-null   object\n",
      " 3   lunch                        1000 non-null   object\n",
      " 4   test preparation course      1000 non-null   object\n",
      " 5   math score                   1000 non-null   int64 \n",
      " 6   reading score                1000 non-null   int64 \n",
      " 7   writing score                1000 non-null   int64 \n",
      "dtypes: int64(3), object(5)\n",
      "memory usage: 62.6+ KB\n",
      "\n",
      "--- First 5 Rows ---\n",
      "   gender race/ethnicity parental level of education         lunch  \\\n",
      "0  female        group B           bachelor's degree      standard   \n",
      "1  female        group C                some college      standard   \n",
      "2  female        group B             master's degree      standard   \n",
      "3    male        group A          associate's degree  free/reduced   \n",
      "4    male        group C                some college      standard   \n",
      "\n",
      "  test preparation course  math score  reading score  writing score  \n",
      "0                    none          72             72             74  \n",
      "1               completed          69             90             88  \n",
      "2                    none          90             95             93  \n",
      "3                    none          47             57             44  \n",
      "4                    none          76             78             75  \n"
     ]
    }
   ],
   "source": [
    "students_df = pd.read_csv('StudentsPerformance.csv')\n",
    "print(\"--- Dataset Info ---\")\n",
    "students_df.info()\n",
    "print(\"\\n--- First 5 Rows ---\")\n",
    "print(students_df.head())\n",
    "\n"
   ]
  },
  {
   "cell_type": "code",
   "execution_count": 30,
   "id": "7c268017-947e-4e75-9b63-fb067de765f3",
   "metadata": {},
   "outputs": [
    {
     "name": "stdout",
     "output_type": "stream",
     "text": [
      "\n",
      "Average Math Score: 66.09\n",
      "Average Reading Score: 69.17\n",
      "Average Writing Score: 68.05\n"
     ]
    }
   ],
   "source": [
    "# Task 1: Display average marks in math, reading, and writing \n",
    "avg_math = students_df['math score'].mean()\n",
    "avg_reading = students_df['reading score'].mean()\n",
    "avg_writing = students_df['writing score'].mean()\n",
    "print(f\"\\nAverage Math Score: {avg_math:.2f}\")\n",
    "print(f\"Average Reading Score: {avg_reading:.2f}\")\n",
    "print(f\"Average Writing Score: {avg_writing:.2f}\")"
   ]
  },
  {
   "cell_type": "code",
   "execution_count": 31,
   "id": "0202af24-0c04-4e7e-a148-7e2545730351",
   "metadata": {},
   "outputs": [
    {
     "name": "stdout",
     "output_type": "stream",
     "text": [
      "\n",
      "--- Average Writing Score by Gender ---\n",
      "gender\n",
      "female    72.467181\n",
      "male      63.311203\n",
      "Name: writing score, dtype: float64\n",
      "Females performed better in writing on average.\n"
     ]
    }
   ],
   "source": [
    " #Task 2: Who performed better in writing, males or females? \n",
    "avg_writing_by_gender = students_df.groupby('gender')['writing score'].mean()\n",
    "print(\"\\n--- Average Writing Score by Gender ---\")\n",
    "print(avg_writing_by_gender)\n",
    "if avg_writing_by_gender['female'] > avg_writing_by_gender['male']:\n",
    "        print(\"Females performed better in writing on average.\")\n",
    "else:\n",
    "        print(\"Males performed better in writing on average.\")"
   ]
  },
  {
   "cell_type": "code",
   "execution_count": 32,
   "id": "269abd32-7bd4-4cf3-be47-3482495412e8",
   "metadata": {},
   "outputs": [
    {
     "name": "stdout",
     "output_type": "stream",
     "text": [
      "\n",
      "--- DataFrame with Total Score and Percentage ---\n",
      "   gender  math score  reading score  writing score  total score  percentage\n",
      "0  female          72             72             74          218   72.666667\n",
      "1  female          69             90             88          247   82.333333\n",
      "2  female          90             95             93          278   92.666667\n",
      "3    male          47             57             44          148   49.333333\n",
      "4    male          76             78             75          229   76.333333\n"
     ]
    }
   ],
   "source": [
    "# Task 3: Add a new column for total score and percentage \n",
    "    students_df['total score'] = students_df['math score'] + students_df['reading score'] + students_df['writing score']\n",
    "    students_df['percentage'] = (students_df['total score'] / 300) * 100\n",
    "    print(\"\\n--- DataFrame with Total Score and Percentage ---\")\n",
    "    print(students_df[['gender', 'math score', 'reading score', 'writing score', 'total score', 'percentage']].head())"
   ]
  },
  {
   "cell_type": "code",
   "execution_count": 33,
   "id": "7455574a-d468-4a17-88af-9af103ac5013",
   "metadata": {},
   "outputs": [
    {
     "name": "stdout",
     "output_type": "stream",
     "text": [
      "\n",
      "--- Generating plot for Task 4. Please check the plot window. ---\n"
     ]
    },
    {
     "data": {
      "image/png": "[encoded data removed]",
      "text/plain": [
       "<Figure size 1200x700 with 1 Axes>"
      ]
     },
     "metadata": {},
     "output_type": "display_data"
    }
   ],
   "source": [
    "# Task 4: Plot a bar chart showing average scores grouped by parental level of education\n",
    "parental_ed_scores = students_df.groupby('parental level of education')[['math score', 'reading score', 'writing score']].mean()\n",
    "parental_ed_scores.plot(kind='bar', figsize=(12, 7))\n",
    "plt.title('Average Scores by Parental Level of Education')\n",
    "plt.ylabel('Average Score')\n",
    "plt.xlabel('Parental Level of Education')\n",
    "plt.xticks(rotation=45)\n",
    "plt.tight_layout()\n",
    "print(\"\\n--- Generating plot for Task 4. Please check the plot window. ---\")\n",
    "plt.show()"
   ]
  },
  {
   "cell_type": "code",
   "execution_count": 34,
   "id": "2861efde-d925-4071-a6d1-1704add812a2",
   "metadata": {},
   "outputs": [
    {
     "name": "stdout",
     "output_type": "stream",
     "text": [
      "\n",
      "--- Students Who Scored Above 90 in All Subjects ---\n",
      "     gender race/ethnicity parental level of education         lunch  \\\n",
      "114  female        group E           bachelor's degree      standard   \n",
      "149    male        group E          associate's degree  free/reduced   \n",
      "165  female        group C           bachelor's degree      standard   \n",
      "179  female        group D            some high school      standard   \n",
      "451  female        group E                some college      standard   \n",
      "458  female        group E           bachelor's degree      standard   \n",
      "546  female        group A            some high school      standard   \n",
      "566  female        group E           bachelor's degree  free/reduced   \n",
      "571    male        group A           bachelor's degree      standard   \n",
      "594  female        group C           bachelor's degree      standard   \n",
      "625    male        group D                some college      standard   \n",
      "685  female        group E             master's degree      standard   \n",
      "712  female        group D                some college      standard   \n",
      "717  female        group C          associate's degree      standard   \n",
      "855  female        group B           bachelor's degree      standard   \n",
      "864    male        group C          associate's degree      standard   \n",
      "886  female        group E          associate's degree      standard   \n",
      "903  female        group D           bachelor's degree  free/reduced   \n",
      "916    male        group E           bachelor's degree      standard   \n",
      "919    male        group B                some college      standard   \n",
      "957  female        group D             master's degree      standard   \n",
      "962  female        group E          associate's degree      standard   \n",
      "979  female        group C          associate's degree      standard   \n",
      "\n",
      "    test preparation course  math score  reading score  writing score  \\\n",
      "114               completed          99            100            100   \n",
      "149               completed         100            100             93   \n",
      "165               completed          96            100            100   \n",
      "179               completed          97            100            100   \n",
      "451                    none         100             92             97   \n",
      "458                    none         100            100            100   \n",
      "546               completed          92            100             97   \n",
      "566               completed          92            100            100   \n",
      "571                    none          91             96             92   \n",
      "594               completed          92            100             99   \n",
      "625               completed         100             97             99   \n",
      "685               completed          94             99            100   \n",
      "712                    none          98            100             99   \n",
      "717               completed          96             96             99   \n",
      "855                    none          97             97             96   \n",
      "864                    none          97             93             91   \n",
      "886               completed          93            100             95   \n",
      "903               completed          93            100            100   \n",
      "916               completed         100            100            100   \n",
      "919               completed          91             96             91   \n",
      "957                    none          92            100            100   \n",
      "962                    none         100            100            100   \n",
      "979                    none          91             95             94   \n",
      "\n",
      "     total score  percentage  \n",
      "114          299   99.666667  \n",
      "149          293   97.666667  \n",
      "165          296   98.666667  \n",
      "179          297   99.000000  \n",
      "451          289   96.333333  \n",
      "458          300  100.000000  \n",
      "546          289   96.333333  \n",
      "566          292   97.333333  \n",
      "571          279   93.000000  \n",
      "594          291   97.000000  \n",
      "625          296   98.666667  \n",
      "685          293   97.666667  \n",
      "712          297   99.000000  \n",
      "717          291   97.000000  \n",
      "855          290   96.666667  \n",
      "864          281   93.666667  \n",
      "886          288   96.000000  \n",
      "903          293   97.666667  \n",
      "916          300  100.000000  \n",
      "919          278   92.666667  \n",
      "957          292   97.333333  \n",
      "962          300  100.000000  \n",
      "979          280   93.333333  \n"
     ]
    }
   ],
   "source": [
    "#  Task 5: Find students who scored above 90% in all subjects \n",
    "   \n",
    "high_achievers = students_df[\n",
    "    (students_df['math score'] > 90) &\n",
    "    (students_df['reading score'] > 90) &\n",
    "    (students_df['writing score'] > 90)\n",
    "    ]\n",
    "print(\"\\n--- Students Who Scored Above 90 in All Subjects ---\")\n",
    "print(high_achievers)"
   ]
  },
  {
   "cell_type": "code",
   "execution_count": 35,
   "id": "fe694628-e204-48fb-84b4-3138a922e1d2",
   "metadata": {},
   "outputs": [],
   "source": [
    "# Part 5 Flight Price Prediction"
   ]
  },
  {
   "cell_type": "code",
   "execution_count": 39,
   "id": "8e250fc7-3ac8-4807-b99f-42848f332c2d",
   "metadata": {},
   "outputs": [
    {
     "name": "stdout",
     "output_type": "stream",
     "text": [
      "<class 'pandas.core.frame.DataFrame'>\n",
      "RangeIndex: 300153 entries, 0 to 300152\n",
      "Data columns (total 12 columns):\n",
      " #   Column            Non-Null Count   Dtype  \n",
      "---  ------            --------------   -----  \n",
      " 0   Unnamed: 0        300153 non-null  int64  \n",
      " 1   airline           300153 non-null  object \n",
      " 2   flight            300153 non-null  object \n",
      " 3   source_city       300153 non-null  object \n",
      " 4   departure_time    300153 non-null  object \n",
      " 5   stops             300153 non-null  object \n",
      " 6   arrival_time      300153 non-null  object \n",
      " 7   destination_city  300153 non-null  object \n",
      " 8   class             300153 non-null  object \n",
      " 9   duration          300153 non-null  float64\n",
      " 10  days_left         300153 non-null  int64  \n",
      " 11  price             300153 non-null  int64  \n",
      "dtypes: float64(1), int64(3), object(8)\n",
      "memory usage: 27.5+ MB\n"
     ]
    },
    {
     "data": {
      "text/html": [
       "<div>\n",
       "<style scoped>\n",
       "    .dataframe tbody tr th:only-of-type {\n",
       "        vertical-align: middle;\n",
       "    }\n",
       "\n",
       "    .dataframe tbody tr th {\n",
       "        vertical-align: top;\n",
       "    }\n",
       "\n",
       "    .dataframe thead th {\n",
       "        text-align: right;\n",
       "    }\n",
       "</style>\n",
       "<table border=\"1\" class=\"dataframe\">\n",
       "  <thead>\n",
       "    <tr style=\"text-align: right;\">\n",
       "      <th></th>\n",
       "      <th>Unnamed: 0</th>\n",
       "      <th>duration</th>\n",
       "      <th>days_left</th>\n",
       "      <th>price</th>\n",
       "    </tr>\n",
       "  </thead>\n",
       "  <tbody>\n",
       "    <tr>\n",
       "      <th>count</th>\n",
       "      <td>300153.000000</td>\n",
       "      <td>300153.000000</td>\n",
       "      <td>300153.000000</td>\n",
       "      <td>300153.000000</td>\n",
       "    </tr>\n",
       "    <tr>\n",
       "      <th>mean</th>\n",
       "      <td>150076.000000</td>\n",
       "      <td>12.221021</td>\n",
       "      <td>26.004751</td>\n",
       "      <td>20889.660523</td>\n",
       "    </tr>\n",
       "    <tr>\n",
       "      <th>std</th>\n",
       "      <td>86646.852011</td>\n",
       "      <td>7.191997</td>\n",
       "      <td>13.561004</td>\n",
       "      <td>22697.767366</td>\n",
       "    </tr>\n",
       "    <tr>\n",
       "      <th>min</th>\n",
       "      <td>0.000000</td>\n",
       "      <td>0.830000</td>\n",
       "      <td>1.000000</td>\n",
       "      <td>1105.000000</td>\n",
       "    </tr>\n",
       "    <tr>\n",
       "      <th>25%</th>\n",
       "      <td>75038.000000</td>\n",
       "      <td>6.830000</td>\n",
       "      <td>15.000000</td>\n",
       "      <td>4783.000000</td>\n",
       "    </tr>\n",
       "    <tr>\n",
       "      <th>50%</th>\n",
       "      <td>150076.000000</td>\n",
       "      <td>11.250000</td>\n",
       "      <td>26.000000</td>\n",
       "      <td>7425.000000</td>\n",
       "    </tr>\n",
       "    <tr>\n",
       "      <th>75%</th>\n",
       "      <td>225114.000000</td>\n",
       "      <td>16.170000</td>\n",
       "      <td>38.000000</td>\n",
       "      <td>42521.000000</td>\n",
       "    </tr>\n",
       "    <tr>\n",
       "      <th>max</th>\n",
       "      <td>300152.000000</td>\n",
       "      <td>49.830000</td>\n",
       "      <td>49.000000</td>\n",
       "      <td>123071.000000</td>\n",
       "    </tr>\n",
       "  </tbody>\n",
       "</table>\n",
       "</div>"
      ],
      "text/plain": [
       "          Unnamed: 0       duration      days_left          price\n",
       "count  300153.000000  300153.000000  300153.000000  300153.000000\n",
       "mean   150076.000000      12.221021      26.004751   20889.660523\n",
       "std     86646.852011       7.191997      13.561004   22697.767366\n",
       "min         0.000000       0.830000       1.000000    1105.000000\n",
       "25%     75038.000000       6.830000      15.000000    4783.000000\n",
       "50%    150076.000000      11.250000      26.000000    7425.000000\n",
       "75%    225114.000000      16.170000      38.000000   42521.000000\n",
       "max    300152.000000      49.830000      49.000000  123071.000000"
      ]
     },
     "execution_count": 39,
     "metadata": {},
     "output_type": "execute_result"
    }
   ],
   "source": [
    "# Task 1\n",
    "flights = pd.read_csv(\"flight_data.csv\")  # Adjust path\n",
    "flights.info()\n",
    "flights.describe()"
   ]
  },
  {
   "cell_type": "code",
   "execution_count": null,
   "id": "0b1142ed-e815-436f-b508-857260e2cd34",
   "metadata": {},
   "outputs": [],
   "source": [
    "# Task 2: Convert date/time columns to appropriate datetime format \n",
    "flights['duration'] = pd.to_datetime(flights['duration'], format='%d/%m/%Y')\n",
    "#flights['days_left'] = flights['days_left'].dt.day\n",
    "#flights['Journey_Month'] = flights['Date_of_Journey'].dt.month\n",
    "flights.head()"
   ]
  },
  {
   "cell_type": "code",
   "execution_count": 46,
   "id": "ab1204ed-ea89-4d8b-bcbe-44dfa35aa014",
   "metadata": {},
   "outputs": [
    {
     "data": {
      "text/plain": [
       "('Vistara', 'Delhi')"
      ]
     },
     "execution_count": 46,
     "metadata": {},
     "output_type": "execute_result"
    }
   ],
   "source": [
    " # Task 3: # Most frequent airline and source\n",
    "flights['airline'].mode()[0], flights['source_city'].mode()[0]\n"
   ]
  },
  {
   "cell_type": "code",
   "execution_count": 47,
   "id": "b7084509-dee2-443f-9349-ae90e5bd240b",
   "metadata": {},
   "outputs": [
    {
     "data": {
      "text/plain": [
       "Unnamed: 0          0\n",
       "airline             0\n",
       "flight              0\n",
       "source_city         0\n",
       "departure_time      0\n",
       "stops               0\n",
       "arrival_time        0\n",
       "destination_city    0\n",
       "class               0\n",
       "duration            0\n",
       "days_left           0\n",
       "price               0\n",
       "dtype: int64"
      ]
     },
     "execution_count": 47,
     "metadata": {},
     "output_type": "execute_result"
    }
   ],
   "source": [
    "# Remove duplicates and handle missing\n",
    "flights.drop_duplicates(inplace=True)\n",
    "flights.dropna(inplace=True)\n",
    "flights.isnull().sum()"
   ]
  },
  {
   "cell_type": "code",
   "execution_count": null,
   "id": "60f72809-bee6-4db0-96b7-822f66dde537",
   "metadata": {},
   "outputs": [],
   "source": []
  }
 ],
 "metadata": {
  "kernelspec": {
   "display_name": "Python [conda env:base] *",
   "language": "python",
   "name": "conda-base-py"
  },
  "language_info": {
   "codemirror_mode": {
    "name": "ipython",
    "version": 3
   },
   "file_extension": ".py",
   "mimetype": "text/x-python",
   "name": "python",
   "nbconvert_exporter": "python",
   "pygments_lexer": "ipython3",
   "version": "3.12.7"
  }
 },
 "nbformat": 4,
 "nbformat_minor": 5
}
